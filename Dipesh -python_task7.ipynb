{
 "cells": [
  {
   "cell_type": "markdown",
   "id": "8145163e-f812-49d4-8afc-552c65c493ea",
   "metadata": {},
   "source": [
    "# Python 'AND' operator "
   ]
  },
  {
   "cell_type": "raw",
   "id": "880e9a4d-98c3-496f-b935-92b65d959f96",
   "metadata": {},
   "source": [
    "Returns True if both statements are true"
   ]
  },
  {
   "cell_type": "code",
   "execution_count": 3,
   "id": "517b363d-53ad-45a6-bc19-f6054fe9a552",
   "metadata": {},
   "outputs": [],
   "source": [
    "def name_checker(name , lastname):\n",
    "    if name == \"Dipesh\" and lastname == \"Manani\":\n",
    "        print(\"access granted\")\n",
    "    else:\n",
    "        print(\"access denied\")\n"
   ]
  },
  {
   "cell_type": "code",
   "execution_count": 4,
   "id": "dc1a7be4-58a8-4635-a210-aafb2e570903",
   "metadata": {},
   "outputs": [
    {
     "name": "stdout",
     "output_type": "stream",
     "text": [
      "access granted\n"
     ]
    }
   ],
   "source": [
    "name_checker(\"Dipesh\" , \"Manani\")"
   ]
  },
  {
   "cell_type": "markdown",
   "id": "d23e39f4-5c1d-48a4-895c-97126e45a531",
   "metadata": {},
   "source": [
    "# Python 'OR' operator"
   ]
  },
  {
   "cell_type": "raw",
   "id": "2e517ab7-f587-4022-8adc-fd5a67c7a8c9",
   "metadata": {},
   "source": [
    "Returns True if one of the statements is true"
   ]
  },
  {
   "cell_type": "code",
   "execution_count": 6,
   "id": "a01e536f-5966-43e7-a0df-9ff10ad2ac50",
   "metadata": {},
   "outputs": [],
   "source": [
    "def name_checker(name , lastname):\n",
    "    if name == \"Dipesh\" or lastname == \"Manani\":\n",
    "        print(\"access granted\")\n",
    "    else:\n",
    "        print(\"access denied\")"
   ]
  },
  {
   "cell_type": "code",
   "execution_count": 7,
   "id": "241ddd33-68ff-4580-985c-b79bfce0b72c",
   "metadata": {},
   "outputs": [
    {
     "name": "stdout",
     "output_type": "stream",
     "text": [
      "access granted\n"
     ]
    }
   ],
   "source": [
    "name_checker(\"Dipesh\" , \"Manan\")"
   ]
  },
  {
   "cell_type": "markdown",
   "id": "f50feff4-39f5-4beb-a0bb-9d82d3ef45d1",
   "metadata": {},
   "source": [
    "# Python 'NOT' operator"
   ]
  },
  {
   "cell_type": "raw",
   "id": "1676c6d0-4ffb-4865-9ba5-c33c71f546fd",
   "metadata": {},
   "source": [
    "Reverse the result, returns False if the result is true"
   ]
  },
  {
   "cell_type": "code",
   "execution_count": 11,
   "id": "3792bf2f-30ce-4f8a-8b1d-d567f536a06e",
   "metadata": {},
   "outputs": [
    {
     "name": "stdout",
     "output_type": "stream",
     "text": [
      "True\n"
     ]
    }
   ],
   "source": [
    "print( not (3 > 5)) \n"
   ]
  },
  {
   "cell_type": "markdown",
   "id": "d1db69d3-5c2b-4f8b-82d6-0a93e0fb2867",
   "metadata": {},
   "source": [
    "# Function in function"
   ]
  },
  {
   "cell_type": "raw",
   "id": "a9b5ac15-b5ea-45bc-b2e7-10327408c83e",
   "metadata": {},
   "source": [
    "Here, we defined capt function which is accepting arguement name of the user which is capitalizing it and we have function greetings which is using the existing function capt() and greeting the user."
   ]
  },
  {
   "cell_type": "code",
   "execution_count": 3,
   "id": "3de09678-52c4-4c85-8fbe-d4c475c63b18",
   "metadata": {},
   "outputs": [],
   "source": [
    "def capt(name):\n",
    "   return name.capitalize()"
   ]
  },
  {
   "cell_type": "code",
   "execution_count": 6,
   "id": "2674a14b-38e1-49a6-9ff6-49bf198c829a",
   "metadata": {},
   "outputs": [],
   "source": [
    "def greetings(name):\n",
    "    capt_name = capt(name)\n",
    "    return f\"welcome user , {capt_name}\"\n"
   ]
  },
  {
   "cell_type": "code",
   "execution_count": 7,
   "id": "7ed1a62a-724e-4cb6-b4a1-73d771054f6a",
   "metadata": {},
   "outputs": [
    {
     "data": {
      "text/plain": [
       "'welcome user , Ajay'"
      ]
     },
     "execution_count": 7,
     "metadata": {},
     "output_type": "execute_result"
    }
   ],
   "source": [
    "greetings(\"ajAy\")"
   ]
  },
  {
   "cell_type": "markdown",
   "id": "7a3e5d9c-5a40-4a43-9de2-b11768c1816c",
   "metadata": {},
   "source": [
    "# Short hand loop feature "
   ]
  },
  {
   "cell_type": "code",
   "execution_count": 10,
   "id": "6229c82b-c5f8-4088-8429-66f906e49452",
   "metadata": {},
   "outputs": [
    {
     "name": "stdout",
     "output_type": "stream",
     "text": [
      "[1.0, 2.0, 2.5, 3.0, 3.5, 4.0, 4.5]\n"
     ]
    }
   ],
   "source": [
    "list = [2,4,5,6,7,8,9]\n",
    "list2 = [num/2 for num in list]\n",
    "print(list2)"
   ]
  },
  {
   "cell_type": "markdown",
   "id": "8c6fc7d3-d231-42c4-b2c1-7f293f9815b4",
   "metadata": {},
   "source": [
    "# Case - Match"
   ]
  },
  {
   "cell_type": "raw",
   "id": "5c8341c0-6991-4890-99dd-c90918872469",
   "metadata": {},
   "source": [
    "This statement checking provided number is even or odd"
   ]
  },
  {
   "cell_type": "code",
   "execution_count": 12,
   "id": "66abf314-b8a4-48fc-b4a7-d6b0d9399661",
   "metadata": {},
   "outputs": [
    {
     "name": "stdin",
     "output_type": "stream",
     "text": [
      "Enter a number :  5\n"
     ]
    },
    {
     "name": "stdout",
     "output_type": "stream",
     "text": [
      "odd\n"
     ]
    }
   ],
   "source": [
    "number = int(input(\"Enter a number : \"))\n",
    "match number % 2==0 :\n",
    "    case True:\n",
    "        print(\"even\")\n",
    "    case False:\n",
    "        print(\"odd\")"
   ]
  },
  {
   "cell_type": "code",
   "execution_count": null,
   "id": "ba23ed72-0433-46eb-a9d3-ceab6ef1b5af",
   "metadata": {},
   "outputs": [],
   "source": []
  }
 ],
 "metadata": {
  "kernelspec": {
   "display_name": "Python 3 (ipykernel)",
   "language": "python",
   "name": "python3"
  },
  "language_info": {
   "codemirror_mode": {
    "name": "ipython",
    "version": 3
   },
   "file_extension": ".py",
   "mimetype": "text/x-python",
   "name": "python",
   "nbconvert_exporter": "python",
   "pygments_lexer": "ipython3",
   "version": "3.12.4"
  }
 },
 "nbformat": 4,
 "nbformat_minor": 5
}
